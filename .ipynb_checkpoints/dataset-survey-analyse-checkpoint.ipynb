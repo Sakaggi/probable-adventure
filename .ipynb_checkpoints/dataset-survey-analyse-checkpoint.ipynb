{
 "cells": [
  {
   "cell_type": "markdown",
   "id": "4f71e14f",
   "metadata": {},
   "source": [
    "<h2 id='part1'>Section 1: Business Understanding</h2>\n",
    "\n",
    "This notebook aims to understand the factors that influences salary of a Programmer\n",
    "<h4>Question 1: What is the Education Level of handsomely paid Programmer?</h4>\n",
    "<h4>Question 2: At what age did they first start to code?</h4>\n",
    "<h4>Question 3: How often do they learn new language?</h4>\n",
    "\n",
    "\n",
    "And at last we use the above three to:\n",
    "<h4>Question 4: Predict salary based on above factors</h4>"
   ]
  },
  {
   "cell_type": "code",
   "execution_count": null,
   "id": "27bd8f8d",
   "metadata": {},
   "outputs": [],
   "source": [
    "import numpy as np\n",
    "import pandas as pd\n",
    "import matplotlib.pyplot as plt\n",
    "from sklearn.linear_model import LinearRegression\n",
    "from sklearn.model_selection import train_test_split\n",
    "from sklearn.metrics import r2_score, mean_squared_error\n",
    "import seaborn as sns\n",
    "%matplotlib inline\n",
    "\n",
    "df = pd.read_csv('./developer_survey_2020/survey_results_public.csv')\n",
    "df.head()\n"
   ]
  },
  {
   "cell_type": "code",
   "execution_count": null,
   "id": "7df1a48c",
   "metadata": {},
   "outputs": [],
   "source": []
  },
  {
   "cell_type": "code",
   "execution_count": null,
   "id": "72fad242",
   "metadata": {},
   "outputs": [],
   "source": []
  }
 ],
 "metadata": {
  "kernelspec": {
   "display_name": "Python 3",
   "language": "python",
   "name": "python3"
  },
  "language_info": {
   "codemirror_mode": {
    "name": "ipython",
    "version": 3
   },
   "file_extension": ".py",
   "mimetype": "text/x-python",
   "name": "python",
   "nbconvert_exporter": "python",
   "pygments_lexer": "ipython3",
   "version": "3.7.9"
  }
 },
 "nbformat": 4,
 "nbformat_minor": 5
}
